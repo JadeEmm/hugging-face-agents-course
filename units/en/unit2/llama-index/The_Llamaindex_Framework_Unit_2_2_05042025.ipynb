{
  "nbformat": 4,
  "nbformat_minor": 0,
  "metadata": {
    "colab": {
      "provenance": [],
      "authorship_tag": "ABX9TyMXtWqXu31d9yb8FWfczKEM",
      "include_colab_link": true
    },
    "kernelspec": {
      "name": "python3",
      "display_name": "Python 3"
    },
    "language_info": {
      "name": "python"
    }
  },
  "cells": [
    {
      "cell_type": "markdown",
      "metadata": {
        "id": "view-in-github",
        "colab_type": "text"
      },
      "source": [
        "<a href=\"https://colab.research.google.com/github/JadeEmm/hugging-face-agents-course/blob/main/units/en/unit2/llama-index/The_Llamaindex_Framework_Unit_2_2_05042025.ipynb\" target=\"_parent\"><img src=\"https://colab.research.google.com/assets/colab-badge.svg\" alt=\"Open In Colab\"/></a>"
      ]
    },
    {
      "cell_type": "markdown",
      "source": [
        "# The LLamaindex Framework\n"
      ],
      "metadata": {
        "id": "qXh-ztWh0Z4T"
      }
    },
    {
      "cell_type": "code",
      "execution_count": null,
      "metadata": {
        "id": "Uk1dlDsa0WNF"
      },
      "outputs": [],
      "source": []
    }
  ]
}